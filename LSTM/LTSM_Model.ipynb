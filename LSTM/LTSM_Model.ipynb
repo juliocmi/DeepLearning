{
  "nbformat": 4,
  "nbformat_minor": 0,
  "metadata": {
    "colab": {
      "provenance": []
    },
    "kernelspec": {
      "name": "python3",
      "display_name": "Python 3"
    },
    "language_info": {
      "name": "python"
    }
  },
  "cells": [
    {
      "cell_type": "markdown",
      "source": [
        "# LTSM Project\n",
        "---\n",
        "\n",
        "- **Notebook:** Julio César Martínez\n",
        "- **Posición:** Data Scientist\n",
        "- **Fecha:** 21-Ene-24"
      ],
      "metadata": {
        "id": "VdBkpPfiAc6x"
      }
    },
    {
      "cell_type": "markdown",
      "source": [
        "# Introducción\n",
        "---\n",
        "\n",
        "El análisis de sentimiento se refiere a un aspecto del campo de procesamiento del lenguaje natural y se dedica exclusivamente a comprender opiniones subjetivas o sentimientos agregados de una variedad de fuentes sobre un solo tema.\n",
        "\n",
        "Puesto en un contexto comercial, el análisis de sentimiento se refiere a herramientas que identifican y extrapolan información de opiniones y luego mejoran las operaciones comerciales. Esto se hace con la ayuda de una variedad de algoritmos que profundizan en el subcontexto de las opiniones e intentan comprender las actitudes con respecto a un producto o cualquier elemento específico.\n",
        "\n",
        "El análisis de sentimiento tiene que ver con la extracción de opiniones para comprender el razonamiento del público en general, lo que permite a las empresas examinar el posicionamiento del producto. El análisis de sentimiento se utiliza en muchas áreas diferentes:\n",
        "\n",
        "- Analítica de productos\n",
        "- Estudios de mercado\n",
        "- Hiperpersonalización\n",
        "- Manejo de reputación\n",
        "- Percepciones en las relaciones públicas\n",
        "- Orientación precisa de los clientes\n",
        "- Reseñas de productos\n",
        "- Comentarios sobre el producto\n",
        "- Servicio al cliente eficiente\n",
        "\n",
        "El análisis de sentimiento juega un papel muy importante para ayudar a las empresas a desarrollar productos y servicios más inteligentes que aborden específicamente las necesidades de los clientes.\n",
        "\n",
        "**MODELO RECURRENTE**\n",
        "\n",
        "Dicho lo anterior, en este proyecto estarémos realizando un análisis de sentimientos para una página de películas llamada IMBD, para ello, utilizaremos un modelo recurrente LTSM (long short term memory) donde introducimos información a una capa y después volvemos a meter información a la misma."
      ],
      "metadata": {
        "id": "QMKR4gijA2LZ"
      }
    },
    {
      "cell_type": "markdown",
      "source": [
        "# Tabla de Contenido\n",
        "---\n",
        "\n",
        "1. Cargar los datos\n",
        "2. Exploración de datos\n",
        "3. Preprocesamiento de datos\n",
        "4. Crear Red Neuronal\n",
        "5. Entrenar y evaluar modelo\n",
        "6. Conclusiones"
      ],
      "metadata": {
        "id": "ToI2tCMnA2VB"
      }
    },
    {
      "cell_type": "markdown",
      "source": [
        "# Proyecto LTSM\n",
        "---\n",
        "\n",
        "Para este proyecto utilizaremos un dataset de keras y es con el que vamos a trabajar de manera sencilla para demostrar algunos de nuestros conocimientos en este campo de la inteligencia artificial."
      ],
      "metadata": {
        "id": "3nqVxXPKA2cS"
      }
    },
    {
      "cell_type": "markdown",
      "source": [
        "## Cargar datos"
      ],
      "metadata": {
        "id": "tg1E3u0J9OP9"
      }
    },
    {
      "cell_type": "markdown",
      "source": [
        "cargar librerías"
      ],
      "metadata": {
        "id": "8v1tItyo9WPK"
      }
    },
    {
      "cell_type": "code",
      "execution_count": 1,
      "metadata": {
        "id": "X8E0D7xXAZih"
      },
      "outputs": [],
      "source": [
        "import pandas as pd\n",
        "import numpy as np\n",
        "import tensorflow as tf\n",
        "\n",
        "from tensorflow.keras.datasets import imdb\n",
        "from tensorflow.keras.preprocessing.sequence import pad_sequences\n",
        "from sklearn.model_selection import train_test_split\n",
        "from tensorflow.keras import Sequential\n",
        "from tensorflow.keras.layers import Dense, LSTM, Embedding, SimpleRNN\n",
        "#from tensorflow.keras.layers.embeddings import Embeding"
      ]
    },
    {
      "cell_type": "markdown",
      "source": [
        "cargar datos"
      ],
      "metadata": {
        "id": "7x3Fm15pIcaT"
      }
    },
    {
      "cell_type": "code",
      "source": [
        "# definimos número de palabras para evitar la complegidad computacional, el set original se compone de 88 mil palabras.\n",
        "numeropalabras = 10000\n",
        "(X_train, y_train),(X_test,y_test) = imdb.load_data(num_words=numeropalabras)"
      ],
      "metadata": {
        "id": "5rABwyiU9nfL"
      },
      "execution_count": 2,
      "outputs": []
    },
    {
      "cell_type": "markdown",
      "source": [
        "## Exploración de datos"
      ],
      "metadata": {
        "id": "3CQU5uTPJgJq"
      }
    },
    {
      "cell_type": "markdown",
      "source": [
        "tamaño del dataset"
      ],
      "metadata": {
        "id": "6rXwU5FsJoVk"
      }
    },
    {
      "cell_type": "code",
      "source": [
        "print('set de entrenamiento:   ', X_train.shape)\n",
        "print('target de entrenamiento:', y_train.shape)\n",
        "print('set de prueba:   ', X_test.shape)\n",
        "print('target de prueba:', y_test.shape)"
      ],
      "metadata": {
        "colab": {
          "base_uri": "https://localhost:8080/"
        },
        "id": "7Gv6dtDe-F0e",
        "outputId": "ad262f3b-0332-4b99-8a53-beeb9e56d249"
      },
      "execution_count": 3,
      "outputs": [
        {
          "output_type": "stream",
          "name": "stdout",
          "text": [
            "set de entrenamiento:    (25000,)\n",
            "target de entrenamiento: (25000,)\n",
            "set de prueba:    (25000,)\n",
            "target de prueba: (25000,)\n"
          ]
        }
      ]
    },
    {
      "cell_type": "markdown",
      "source": [
        "revisar elemento en X_train"
      ],
      "metadata": {
        "id": "N3PUVeFTKfL3"
      }
    },
    {
      "cell_type": "code",
      "source": [
        "%pprint"
      ],
      "metadata": {
        "colab": {
          "base_uri": "https://localhost:8080/"
        },
        "id": "uwRGLPGx-F6U",
        "outputId": "1c623e08-61f9-4108-c343-5b43553a0f2c"
      },
      "execution_count": 4,
      "outputs": [
        {
          "output_type": "stream",
          "name": "stdout",
          "text": [
            "Pretty printing has been turned OFF\n"
          ]
        }
      ]
    },
    {
      "cell_type": "code",
      "source": [
        "X_train[150]"
      ],
      "metadata": {
        "colab": {
          "base_uri": "https://localhost:8080/"
        },
        "id": "ndedzdA8-GCJ",
        "outputId": "ed6fa165-34e7-4ac9-88c5-a56de9fc0d9b"
      },
      "execution_count": 5,
      "outputs": [
        {
          "output_type": "execute_result",
          "data": {
            "text/plain": [
              "[1, 5, 14, 9, 6, 55, 1193, 22, 13, 203, 30, 355, 21, 14, 9, 4, 236, 22, 121, 13, 1192, 2967, 3622, 35, 779, 284, 37, 5844, 4, 217, 5, 2132, 6, 749, 10, 10, 2636, 4252, 5, 2931, 4517, 26, 82, 321, 36, 26, 2, 5, 4960, 2, 1786, 8, 358, 4, 704, 117, 122, 36, 124, 51, 62, 593, 375, 10, 10, 4, 1381, 5, 732, 26, 821, 5, 1249, 14, 16, 159, 4, 504, 7, 3728, 4913, 10, 10, 51, 9, 91, 1193, 44, 14, 22, 9, 4, 192, 15, 1370, 40, 14, 131, 1778, 11, 938, 704, 3834, 131, 2, 543, 84, 12, 9, 220, 6, 1117, 5, 6, 320, 237, 4, 3286, 325, 10, 10, 25, 80, 358, 14, 22, 12, 16, 814, 11, 4, 3968, 8084, 7, 1226, 7111, 63, 131, 1778, 43, 92, 1278, 501, 15, 8, 6353, 2, 15, 1609, 131, 47, 24, 77, 2, 237, 2, 2, 158, 158]"
            ]
          },
          "metadata": {},
          "execution_count": 5
        }
      ]
    },
    {
      "cell_type": "markdown",
      "source": [
        "**Observacion**\n",
        "\n",
        "Al explorar el elemento 150 encontramos una lista de números que nos índican cuál es el elemento que más se repite dentro del corpus de palabras. Por ejemplo, el 1 significa que es la palabra más repetida, el 5 la quinta palabra más utilizada, etc.\n",
        "\n",
        "Hay un detalle con este dataset y es que la librería keras espera corpus de palabras completas, por ejemplo, keras espera un corpus de 100 palabras pero si solo le dimos 90 el resto de palabras para llegar a 100 las denominaría en ceros. Este fenomeno recibe el nombre de padding y para evitarlo keras desfasa cada 3 elementos las palabras, por lo tanto, si queremos ver la palabra más popular como se menciona en el párrafo anterior, entonces debemos búscar la palabra número 3 y no la 1 como se menciona."
      ],
      "metadata": {
        "id": "0i5MIsFDKyEI"
      }
    },
    {
      "cell_type": "code",
      "source": [
        "# llamar a word_index\n",
        "word_to_index = imdb.get_word_index()\n",
        "# índice de la palabra bad\n",
        "print('índice de la palabra bad:', word_to_index['bad'])"
      ],
      "metadata": {
        "colab": {
          "base_uri": "https://localhost:8080/"
        },
        "id": "uxUN6qAU-GHD",
        "outputId": "de0f468e-d375-4d0a-bf83-84b4b6c4cad3"
      },
      "execution_count": 6,
      "outputs": [
        {
          "output_type": "stream",
          "name": "stdout",
          "text": [
            "índice de la palabra bad: 75\n"
          ]
        }
      ]
    },
    {
      "cell_type": "markdown",
      "source": [
        "La palabra **bad** es la número 75 más éxitoza o más repetitiva dentro de todas las reseñas que se muestran. Ahora lo que necesitamos es poder dar un número y que nos devuelva la palabra, para ello debemos cambiar la relación de palabras a números."
      ],
      "metadata": {
        "id": "fqK5ZlstVSWT"
      }
    },
    {
      "cell_type": "code",
      "source": [
        "index_to_word={index:word for (word,index) in word_to_index.items()}"
      ],
      "metadata": {
        "id": "8C-dW2gtU6dg"
      },
      "execution_count": 7,
      "outputs": []
    },
    {
      "cell_type": "code",
      "source": [
        "word_to_index['bad']"
      ],
      "metadata": {
        "colab": {
          "base_uri": "https://localhost:8080/"
        },
        "id": "IyPFy0UiWLtf",
        "outputId": "d40baabb-025a-4297-ccbb-7429f80b84fb"
      },
      "execution_count": 8,
      "outputs": [
        {
          "output_type": "execute_result",
          "data": {
            "text/plain": [
              "75"
            ]
          },
          "metadata": {},
          "execution_count": 8
        }
      ]
    },
    {
      "cell_type": "markdown",
      "source": [
        "armar lista con las palabras más populares"
      ],
      "metadata": {
        "id": "p80RSMKkWWfp"
      }
    },
    {
      "cell_type": "code",
      "source": [
        "[index_to_word[i] for i in range(1,51)]"
      ],
      "metadata": {
        "colab": {
          "base_uri": "https://localhost:8080/"
        },
        "id": "CVZcLKJSWOXr",
        "outputId": "628a2a6e-9064-4a20-ddd4-35fe57f05521"
      },
      "execution_count": 9,
      "outputs": [
        {
          "output_type": "execute_result",
          "data": {
            "text/plain": [
              "['the', 'and', 'a', 'of', 'to', 'is', 'br', 'in', 'it', 'i', 'this', 'that', 'was', 'as', 'for', 'with', 'movie', 'but', 'film', 'on', 'not', 'you', 'are', 'his', 'have', 'he', 'be', 'one', 'all', 'at', 'by', 'an', 'they', 'who', 'so', 'from', 'like', 'her', 'or', 'just', 'about', \"it's\", 'out', 'has', 'if', 'some', 'there', 'what', 'good', 'more']"
            ]
          },
          "metadata": {},
          "execution_count": 9
        }
      ]
    },
    {
      "cell_type": "markdown",
      "source": [
        "obtener el corpus del elemento 123 de la lista"
      ],
      "metadata": {
        "id": "TISW5DcuZc5m"
      }
    },
    {
      "cell_type": "code",
      "source": [
        "\" \".join([index_to_word.get(i-3,\"?\") for i in X_train[123]])"
      ],
      "metadata": {
        "colab": {
          "base_uri": "https://localhost:8080/",
          "height": 53
        },
        "id": "pgnFQt1IWtEN",
        "outputId": "28b488d8-2e57-4d38-d14e-0ee973282455"
      },
      "execution_count": 10,
      "outputs": [
        {
          "output_type": "execute_result",
          "data": {
            "text/plain": [
              "'? beautiful and touching movie rich colors great settings good acting and one of the most charming movies i have seen in a while i never saw such an interesting setting when i was in china my wife liked it so much she asked me to ? on and rate it so other would enjoy too'"
            ],
            "application/vnd.google.colaboratory.intrinsic+json": {
              "type": "string"
            }
          },
          "metadata": {},
          "execution_count": 10
        }
      ]
    },
    {
      "cell_type": "markdown",
      "source": [
        "según el texto, verificamos si es una relación positiva (1) o negativa (0)"
      ],
      "metadata": {
        "id": "Vl3S7kQsZk_m"
      }
    },
    {
      "cell_type": "code",
      "source": [
        "y_train[123]"
      ],
      "metadata": {
        "colab": {
          "base_uri": "https://localhost:8080/"
        },
        "id": "xhMwolNFY_al",
        "outputId": "656f32de-458a-48f1-aa1b-d1fa5d90c2dc"
      },
      "execution_count": 11,
      "outputs": [
        {
          "output_type": "execute_result",
          "data": {
            "text/plain": [
              "1"
            ]
          },
          "metadata": {},
          "execution_count": 11
        }
      ]
    },
    {
      "cell_type": "markdown",
      "source": [
        "## Preprocesamiento de Datos\n",
        "---\n",
        "\n",
        "Todo el trabajo que realizamos anteriormente fue para poder comprender mejor de qué se tratan los elementos o reseñas del dataset, sin embargo, a keras le interesan más los números."
      ],
      "metadata": {
        "id": "11agx7yVBudn"
      }
    },
    {
      "cell_type": "markdown",
      "source": [
        "Definir palabras por reseña en 200"
      ],
      "metadata": {
        "id": "FCIOz9jJFmWk"
      }
    },
    {
      "cell_type": "code",
      "source": [
        "numpal=200\n",
        "X_train = pad_sequences(\n",
        "    X_train,\n",
        "    maxlen=numpal\n",
        "    ) #<-- truncamos las reseñas\n",
        "X_train.shape # <-- nuevo split"
      ],
      "metadata": {
        "id": "V-DFy_09ZW3t",
        "colab": {
          "base_uri": "https://localhost:8080/"
        },
        "outputId": "ec8bc364-fc84-4be7-fea4-470dbff0920d"
      },
      "execution_count": 12,
      "outputs": [
        {
          "output_type": "execute_result",
          "data": {
            "text/plain": [
              "(25000, 200)"
            ]
          },
          "metadata": {},
          "execution_count": 12
        }
      ]
    },
    {
      "cell_type": "code",
      "source": [
        "X_test = pad_sequences(\n",
        "    X_test,\n",
        "    maxlen=numpal\n",
        "    )\n",
        "X_test.shape"
      ],
      "metadata": {
        "colab": {
          "base_uri": "https://localhost:8080/"
        },
        "id": "5DqOE2BuZxmp",
        "outputId": "843bfadd-51a3-4b5a-9213-e6651c134ccf"
      },
      "execution_count": 13,
      "outputs": [
        {
          "output_type": "execute_result",
          "data": {
            "text/plain": [
              "(25000, 200)"
            ]
          },
          "metadata": {},
          "execution_count": 13
        }
      ]
    },
    {
      "cell_type": "markdown",
      "source": [
        "Dividir los datos"
      ],
      "metadata": {
        "id": "zRWhB4IFGUMH"
      }
    },
    {
      "cell_type": "code",
      "source": [
        "X_test, X_val, y_test, y_val = train_test_split(\n",
        "    X_test,\n",
        "    y_test,\n",
        "    random_state=11,\n",
        "    test_size=0.20\n",
        "    )"
      ],
      "metadata": {
        "id": "xDF24lysFqik"
      },
      "execution_count": 14,
      "outputs": []
    },
    {
      "cell_type": "code",
      "source": [
        "X_test.shape"
      ],
      "metadata": {
        "colab": {
          "base_uri": "https://localhost:8080/"
        },
        "id": "aYz4L6nOHA4b",
        "outputId": "d9d45077-687a-4bc8-d6c5-2c6cdb7e28cd"
      },
      "execution_count": 15,
      "outputs": [
        {
          "output_type": "execute_result",
          "data": {
            "text/plain": [
              "(20000, 200)"
            ]
          },
          "metadata": {},
          "execution_count": 15
        }
      ]
    },
    {
      "cell_type": "code",
      "source": [
        "X_val.shape"
      ],
      "metadata": {
        "colab": {
          "base_uri": "https://localhost:8080/"
        },
        "id": "yzdeboNrHJ0K",
        "outputId": "0e85c156-6a6e-423c-e55e-3b48cfeb4ef8"
      },
      "execution_count": 16,
      "outputs": [
        {
          "output_type": "execute_result",
          "data": {
            "text/plain": [
              "(5000, 200)"
            ]
          },
          "metadata": {},
          "execution_count": 16
        }
      ]
    },
    {
      "cell_type": "code",
      "source": [
        "y_val.shape"
      ],
      "metadata": {
        "colab": {
          "base_uri": "https://localhost:8080/"
        },
        "id": "FANgu1rxamwe",
        "outputId": "c5ef3b1c-d65a-4807-ee04-519d8e732f35"
      },
      "execution_count": 17,
      "outputs": [
        {
          "output_type": "execute_result",
          "data": {
            "text/plain": [
              "(5000,)"
            ]
          },
          "metadata": {},
          "execution_count": 17
        }
      ]
    },
    {
      "cell_type": "markdown",
      "source": [
        "## Crear Red Neuronal\n",
        "---"
      ],
      "metadata": {
        "id": "X3f865VsHrzO"
      }
    },
    {
      "cell_type": "code",
      "source": [
        "rnn = Sequential() # <-- instanciar modelo\n",
        "rnn.add(           # <-- capa embeding\n",
        "        Embedding(\n",
        "        input_dim=numeropalabras,\n",
        "        output_dim=128,\n",
        "        input_length=numpal\n",
        "        )\n",
        "    )\n",
        "rnn.add( # <-- capa de recursión\n",
        "    LSTM(\n",
        "        units=128,\n",
        "        dropout=0.2,\n",
        "        recurrent_dropout=0.2\n",
        "        )\n",
        "    )\n",
        "rnn.add( # <-- capa densa\n",
        "    Dense(\n",
        "        units=1,\n",
        "        activation='sigmoid'\n",
        "        )\n",
        "    )\n",
        "rnn.compile( # <-- compilar la red\n",
        "    optimizer=\"adam\",\n",
        "    loss=\"binary_crossentropy\",\n",
        "    metrics=[\"accuracy\"]\n",
        "    )"
      ],
      "metadata": {
        "id": "dZQVTrcUHNRi"
      },
      "execution_count": 18,
      "outputs": []
    },
    {
      "cell_type": "code",
      "source": [
        "rnn.summary()"
      ],
      "metadata": {
        "colab": {
          "base_uri": "https://localhost:8080/"
        },
        "id": "6IXyQ21ZHapA",
        "outputId": "f5ed0e69-b8a8-4872-8cd4-443ea83b5170"
      },
      "execution_count": 19,
      "outputs": [
        {
          "output_type": "stream",
          "name": "stdout",
          "text": [
            "Model: \"sequential\"\n",
            "_________________________________________________________________\n",
            " Layer (type)                Output Shape              Param #   \n",
            "=================================================================\n",
            " embedding (Embedding)       (None, 200, 128)          1280000   \n",
            "                                                                 \n",
            " lstm (LSTM)                 (None, 128)               131584    \n",
            "                                                                 \n",
            " dense (Dense)               (None, 1)                 129       \n",
            "                                                                 \n",
            "=================================================================\n",
            "Total params: 1411713 (5.39 MB)\n",
            "Trainable params: 1411713 (5.39 MB)\n",
            "Non-trainable params: 0 (0.00 Byte)\n",
            "_________________________________________________________________\n"
          ]
        }
      ]
    },
    {
      "cell_type": "markdown",
      "source": [
        "## Entrenar y evaluar modelo\n",
        "---\n",
        "\n",
        "Usar fit para entrenar modelo"
      ],
      "metadata": {
        "id": "nBzdT8_1M_55"
      }
    },
    {
      "cell_type": "code",
      "source": [
        "rnn.fit(\n",
        "    X_train,\n",
        "    y_train,\n",
        "    epochs=10,\n",
        "    batch_size=32,\n",
        "    validation_data=(\n",
        "        X_test,\n",
        "        y_test\n",
        "        )\n",
        "    )"
      ],
      "metadata": {
        "colab": {
          "base_uri": "https://localhost:8080/"
        },
        "id": "S1XGX9mOHasE",
        "outputId": "0a0c62d6-53e4-4edd-b034-debd76906fcf"
      },
      "execution_count": 20,
      "outputs": [
        {
          "output_type": "stream",
          "name": "stdout",
          "text": [
            "Epoch 1/10\n",
            "782/782 [==============================] - 583s 741ms/step - loss: 0.4402 - accuracy: 0.7956 - val_loss: 0.3422 - val_accuracy: 0.8536\n",
            "Epoch 2/10\n",
            "782/782 [==============================] - 581s 744ms/step - loss: 0.2762 - accuracy: 0.8922 - val_loss: 0.3617 - val_accuracy: 0.8522\n",
            "Epoch 3/10\n",
            "782/782 [==============================] - 573s 733ms/step - loss: 0.2001 - accuracy: 0.9236 - val_loss: 0.3540 - val_accuracy: 0.8551\n",
            "Epoch 4/10\n",
            "782/782 [==============================] - 575s 736ms/step - loss: 0.1580 - accuracy: 0.9416 - val_loss: 0.3756 - val_accuracy: 0.8589\n",
            "Epoch 5/10\n",
            "782/782 [==============================] - 575s 735ms/step - loss: 0.1185 - accuracy: 0.9562 - val_loss: 0.4097 - val_accuracy: 0.8601\n",
            "Epoch 6/10\n",
            "782/782 [==============================] - 571s 730ms/step - loss: 0.0919 - accuracy: 0.9675 - val_loss: 0.4491 - val_accuracy: 0.8641\n",
            "Epoch 7/10\n",
            "782/782 [==============================] - 583s 746ms/step - loss: 0.0690 - accuracy: 0.9760 - val_loss: 0.5682 - val_accuracy: 0.8630\n",
            "Epoch 8/10\n",
            "782/782 [==============================] - 570s 729ms/step - loss: 0.0719 - accuracy: 0.9751 - val_loss: 0.5759 - val_accuracy: 0.8594\n",
            "Epoch 9/10\n",
            "782/782 [==============================] - 568s 726ms/step - loss: 0.0432 - accuracy: 0.9859 - val_loss: 0.6639 - val_accuracy: 0.8599\n",
            "Epoch 10/10\n",
            "782/782 [==============================] - 577s 738ms/step - loss: 0.0337 - accuracy: 0.9892 - val_loss: 0.6843 - val_accuracy: 0.8526\n"
          ]
        },
        {
          "output_type": "execute_result",
          "data": {
            "text/plain": [
              "<keras.src.callbacks.History object at 0x7bd0f20b74f0>"
            ]
          },
          "metadata": {},
          "execution_count": 20
        }
      ]
    },
    {
      "cell_type": "code",
      "source": [
        "rnn.evaluate(X_val, y_val)"
      ],
      "metadata": {
        "colab": {
          "base_uri": "https://localhost:8080/"
        },
        "id": "jBDtvBwDWb0w",
        "outputId": "d85f6c5d-4c21-407f-9771-2aeac6fbe5b3"
      },
      "execution_count": 22,
      "outputs": [
        {
          "output_type": "stream",
          "name": "stdout",
          "text": [
            "157/157 [==============================] - 16s 93ms/step - loss: 0.6959 - accuracy: 0.8526\n"
          ]
        },
        {
          "output_type": "execute_result",
          "data": {
            "text/plain": [
              "[0.6959109902381897, 0.8525999784469604]"
            ]
          },
          "metadata": {},
          "execution_count": 22
        }
      ]
    },
    {
      "cell_type": "markdown",
      "source": [
        "## Conclusiones\n",
        "\n",
        "Después de completar con éxito cada uno de los pasos para desarrollar nuestro modelo de recursión, llegamos a los siguientes puntos:\n",
        "\n",
        "- El modelo se desarrolló con un dataset propio de la librería de keras, el cual contiene hasta 80 mil reseñas de películas.\n",
        "- Por temas de complejidad computacional, nuestro modelo se entrenó solo con 10 mil reseñas.\n",
        "- El modelo LSTM se construyó con solo 3 capas debido a la complejidad computacional.\n",
        "- El modelo logró una exactitud final de 85% mientras que se logró una función de pérdida de hasta un 69%.\n",
        "- Lo anterior significa que, aunque el modelo cuenta con una buena precisión,\n",
        " aún no es capaz de distingir correctamente entre comentarios positivos o negativos que existen dentro de las reseñas.\n",
        "- Algunas recomendaciones para mejorar el modelo incluyen:\n",
        "  - Entrenar al modelo con más o menos datos.\n",
        "  - Cambiar el rango de validación.\n",
        "  - Aumentar capas de entrenamiento.\n",
        "\n",
        "Por lo pronto nos quedaremos con este resultado, en otro proyecto estarémos utilizando esta red implementando mejoras para lograr mejores proyecciones en nuestro objetivo."
      ],
      "metadata": {
        "id": "ItiWloesAE1J"
      }
    }
  ]
}